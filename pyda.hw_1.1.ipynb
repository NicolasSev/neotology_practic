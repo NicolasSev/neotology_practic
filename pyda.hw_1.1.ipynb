{
 "cells": [
  {
   "cell_type": "code",
   "execution_count": 0,
   "metadata": {
    "collapsed": false
   },
   "outputs": [
   ],
   "source": [
    "Task 1.\n",
    "Даны 2 строки long_phrase и short_phrase.\n",
    "Напишите код, который проверяет действительно ли длинная фраза long_phrase длиннее короткой short_phrase.\n",
    "И выводит True или False в зависимости от результата сравнения.\n",
    "long_phrase = 'Насколько проще было бы писать программы, если бы не заказчики’\n",
    "short_phrase = ‘640Кб должно хватить для любых задач. Билл Гейтс (по легенде)’"
   ]
  },
  {
   "cell_type": "code",
   "execution_count": 5,
   "metadata": {
    "collapsed": false
   },
   "outputs": [
    {
     "name": "stdout",
     "output_type": "stream",
     "text": [
      "62\n",
      "61\n"
     ]
    },
    {
     "data": {
      "text/plain": [
       "True"
      ]
     },
     "execution_count": 5,
     "metadata": {
     },
     "output_type": "execute_result"
    }
   ],
   "source": [
    "long_phrase = 'Насколько проще было бы писать программы, если бы не заказчики'\n",
    "short_phrase = '640Кб должно хватить для любых задач. Билл Гейтс (по легенде)'\n",
    "print(len(long_phrase))\n",
    "print(len(short_phrase))\n",
    "len(long_phrase) > len(short_phrase)"
   ]
  },
  {
   "cell_type": "code",
   "execution_count": 0,
   "metadata": {
    "collapsed": false
   },
   "outputs": [
   ],
   "source": [
    "Задание 2. Дано значение объема файла в байтах. Напишите перевод этого значения в мегабайты в формате:\n",
    "‘Объем файла равен 213.68Mb’"
   ]
  },
  {
   "cell_type": "code",
   "execution_count": 10,
   "metadata": {
    "cocalc": {
     "outputs": {
      "0": {
       "name": "input",
       "opts": {
        "password": false,
        "prompt": "Введите обьем данных"
       },
       "output_type": "stream",
       "value": "554321000"
      }
     }
    },
    "collapsed": false
   },
   "outputs": [
    {
     "name": "stdout",
     "output_type": "stream",
     "text": "Введите обьем данных 554321000"
    },
    {
     "name": "stdout",
     "output_type": "stream",
     "text": [
      "Quantity in Mb 554.321\n"
     ]
    }
   ],
   "source": [
    "bytes_quantity = int(input('Введите обьем данных'))\n",
    "print('Quantity in Mb' , bytes_quantity / 1000000)\n"
   ]
  },
  {
   "cell_type": "code",
   "execution_count": 0,
   "metadata": {
    "collapsed": false
   },
   "outputs": [
   ],
   "source": [
    "Разработать приложение для определения знака зодиака по дате рождения.\n",
    "Пример:\n",
    "\n",
    "Введите месяц: март\n",
    "Введите число: 6\n",
    "\n",
    "Вывод:\n",
    "Рыбы"
   ]
  },
  {
   "cell_type": "code",
   "execution_count": 6,
   "metadata": {
    "cocalc": {
     "outputs": {
      "0": {
       "name": "input",
       "opts": {
        "password": false,
        "prompt": "Введите месяц рождения:"
       },
       "output_type": "stream",
       "value": "декабрь"
      },
      "1": {
       "name": "input",
       "opts": {
        "password": false,
        "prompt": "Введите день:"
       },
       "output_type": "stream",
       "value": "55"
      }
     }
    },
    "collapsed": false
   },
   "outputs": [
    {
     "name": "stdout",
     "output_type": "stream",
     "text": "Введите месяц рождения: декабрь"
    },
    {
     "name": "stdout",
     "output_type": "stream",
     "text": "Введите день: 55"
    },
    {
     "name": "stdout",
     "output_type": "stream",
     "text": [
      "Введите корректный день\n"
     ]
    }
   ],
   "source": [
    "month = input('Введите месяц рождения:')\n",
    "day = int(input('Введите день:'))\n",
    "if ((day >= 1) and (day <= 31)):\n",
    "    if month == 'январь':\n",
    "        print('Ваш знак Зодиака: Козерог')\n",
    "    if month == 'февраль':\n",
    "        print('Ваш знак Зодиака: Водолей')\n",
    "    if month == 'март':\n",
    "        print('Ваш знак Зодиака: Рыбы')\n",
    "    if month == 'апрель':\n",
    "        print('Ваш знак Зодиака: Овен')\n",
    "    if month == 'май':\n",
    "        print('Ваш знак Зодиака: Телец')\n",
    "    if month == 'июнь':\n",
    "        print('Ваш знак Зодиака: Близнецы')\n",
    "    if month == 'июль':\n",
    "        print('Ваш знак Зодиака: Рак')\n",
    "    if month == 'август':\n",
    "        print('Ваш знак Зодиака: Лев')\n",
    "    if month == 'сентябрь':\n",
    "        print('Ваш знак Зодиака: Дева')\n",
    "    if month == 'октябрь':\n",
    "        print('Ваш знак Зодиака: Весы')\n",
    "    if month == 'ноябрь':\n",
    "        print('Ваш знак Зодиака: Скорпион')\n",
    "    if month == 'декабрь':\n",
    "        print('Ваш знак Зодиака: Стрелец')\n",
    "else:\n",
    "    print('Введите корректный день')\n"
   ]
  },
  {
   "cell_type": "code",
   "execution_count": 0,
   "metadata": {
    "collapsed": false
   },
   "outputs": [
   ],
   "source": [
    "Задание 4. Нужно разработать приложение для финансового планирования.\n",
    "Приложение учитывает сколько уходит на ипотеку, “на жизнь” и сколько нужно отложить на пенсию.\n",
    "Пользователь вводит заработанную плату в месяц.\n",
    "Сколько процентов от зп уходит на ипотеку.\n",
    "Сколько процентов от зп уходит “на жизнь”.\n",
    "Сколько раз приходит премия в год.\n",
    "Остальная часть заработанной платы откладывается на пенсию.\n",
    "Также пользователю приходит премия в размере зарплаты, от которой половина уходит на отпуск, а вторая половина откладывается.\n",
    "Программа должна учитывать сколько премий было в год.\n",
    "Нужно вывести сколько денег тратит пользователь на ипотеку и сколько он накопит за год.\n",
    "Пример:\n",
    "\n",
    "Введите заработанную плату в месяц: 100000\n",
    "Введите сколько процентов уходит на ипотеку: 30\n",
    "Введите сколько процентов уходит на жизнь: 50\n",
    "Введите количество премий за год: 2\n",
    "\n",
    "Вывод:\n",
    "На ипотеку было потрачено: 360000 рублей\n",
    "Было накоплено: 340000 рублей"
   ]
  },
  {
   "cell_type": "code",
   "execution_count": 12,
   "metadata": {
    "cocalc": {
     "outputs": {
      "0": {
       "name": "input",
       "opts": {
        "password": false,
        "prompt": "Введите ваш месяный оклад:"
       },
       "output_type": "stream",
       "value": "50000"
      },
      "1": {
       "name": "input",
       "opts": {
        "password": false,
        "prompt": "Введите ваш процент на ипотеку:"
       },
       "output_type": "stream",
       "value": "10"
      },
      "2": {
       "name": "input",
       "opts": {
        "password": false,
        "prompt": "Введите ваш процент на жизнь:"
       },
       "output_type": "stream",
       "value": "50"
      },
      "3": {
       "name": "input",
       "opts": {
        "password": false,
        "prompt": "Введите количество премий:"
       },
       "output_type": "stream",
       "value": "2"
      }
     }
    },
    "collapsed": false
   },
   "outputs": [
    {
     "name": "stdout",
     "output_type": "stream",
     "text": "Введите ваш месяный оклад: 50000"
    },
    {
     "name": "stdout",
     "output_type": "stream",
     "text": "Введите ваш процент на ипотеку: 10"
    },
    {
     "name": "stdout",
     "output_type": "stream",
     "text": "Введите ваш процент на жизнь: 50"
    },
    {
     "name": "stdout",
     "output_type": "stream",
     "text": "Введите количество премий: 2"
    },
    {
     "name": "stdout",
     "output_type": "stream",
     "text": [
      "Вывод:На ипотеку было потрачено: 210000.0 рублейБыло накоплено: 140000.0 рублей\n"
     ]
    }
   ],
   "source": [
    "your_salary = int(input('Введите ваш месяный оклад:'))\n",
    "percent_by_flat = int(input('Введите ваш процент на ипотеку:'))\n",
    "percent_by_life = int(input('Введите ваш процент на жизнь:'))\n",
    "count_of_prize = int(input('Введите количество премий:'))\n",
    "year_budget = (your_salary * 12) + (count_of_prize * your_salary)\n",
    "year_flat_percent = year_budget / 100 * 30\n",
    "year_life_percent = year_budget / 100 * 50\n",
    "your_money_for_year = year_budget - year_flat_percent - year_life_percent\n",
    "print('Вывод:' \\\n",
    "    'На ипотеку было потрачено:', year_flat_percent, 'рублей' \\\n",
    "    'Было накоплено:', your_money_for_year, 'рублей')"
   ]
  },
  {
   "cell_type": "code",
   "execution_count": 0,
   "metadata": {
    "collapsed": false
   },
   "outputs": [
   ],
   "source": [
   ]
  }
 ],
 "metadata": {
  "kernelspec": {
   "display_name": "Python 3 (system-wide)",
   "language": "python",
   "metadata": {
    "cocalc": {
     "description": "Python 3 programming language",
     "priority": 100,
     "url": "https://www.python.org/"
    }
   },
   "name": "python3"
  },
  "language_info": {
   "codemirror_mode": {
    "name": "ipython",
    "version": 3
   },
   "file_extension": ".py",
   "mimetype": "text/x-python",
   "name": "python",
   "nbconvert_exporter": "python",
   "pygments_lexer": "ipython3",
   "version": "3.6.8"
  }
 },
 "nbformat": 4,
 "nbformat_minor": 0
}