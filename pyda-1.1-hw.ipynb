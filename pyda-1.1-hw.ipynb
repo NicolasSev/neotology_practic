{
 "cells": [
  {
   "cell_type": "markdown",
   "metadata": {},
   "source": [
    "**Задание 1**. Даны 2 строки: *long_phrase* и *short_phrase*. \n",
    "Напишите код, который проверяет действительно ли длинная фраза *long_phrase* длиннее короткой *short_phrase*. И выводит *True* или *False* в зависимости от результата сравнения."
   ]
  },
  {
   "cell_type": "code",
   "execution_count": 3,
   "metadata": {},
   "outputs": [
    {
     "name": "stdout",
     "output_type": "stream",
     "text": [
      "True\n"
     ]
    }
   ],
   "source": [
    "long_phrase = 'Насколько проще было бы писать программы, если бы не заказчики'\n",
    "short_phrase = '640Кб должно хватить для любых задач. Билл Гейтс (по легенде)'\n",
    "print(len(long_phrase) > len(short_phrase))"
   ]
  },
  {
   "cell_type": "markdown",
   "metadata": {},
   "source": [
    "**Задание 2**. Дано значение объема файла в байтах. Напишите перевод этого значения в мегабайты в формате: \"*Объем файла равен 213.68Mb*\""
   ]
  },
  {
   "cell_type": "code",
   "execution_count": 6,
   "metadata": {},
   "outputs": [
    {
     "name": "stdout",
     "output_type": "stream",
     "text": [
      "224059719.68\n"
     ]
    }
   ],
   "source": [
    "print(213.68 * 1048576)"
   ]
  },
  {
   "cell_type": "markdown",
   "metadata": {},
   "source": [
    "**Задание 3**. Разработать приложение для определения знака зодиака по дате рождения. Пример:\n",
    "\n",
    "Введите месяц: март\n",
    "\n",
    "Введите число: 6\n",
    "\n",
    "Вывод:\n",
    "Рыбы"
   ]
  },
  {
   "cell_type": "code",
   "execution_count": 12,
   "metadata": {},
   "outputs": [
    {
     "name": "stdout",
     "output_type": "stream",
     "text": [
      "Введите  месяц: июль\n",
      "Введите  число: 17\n",
      "Вывод: Рак\n"
     ]
    }
   ],
   "source": [
    "month = input('Введите  месяц: ')\n",
    "day = int(input('Введите  число: '))\n",
    "if (month == 'март' and (day >= 21 or day <= 31)) or (month == 'апрель' and (day >= 1 or day <= 20)):\n",
    "    print('Вывод: Овен')\n",
    "elif (month == 'апрель' and (day >= 21 or day <= 30)) or (month == 'май' and (day >= 1 or day <= 21)):\n",
    "    print('Вывод: Телец')\n",
    "elif (month == 'май' and (day >= 22 or day <= 31)) or (month == 'июнь' and (day >= 1 or day <= 21)):\n",
    "    print('Вывод: Близнецы')\n",
    "elif (month == 'июнь' and (day >= 22 or day <= 30)) or (month == 'июль' and (day >= 1 or day <= 22)):\n",
    "    print('Вывод: Рак')\n",
    "elif (month == 'июль' and (day >= 23 or day <= 31)) or (month == 'август' and (day >= 1 or day <= 23)):\n",
    "    print('Вывод: Лев')\n",
    "elif (month == 'август' and (day >= 24 or day <= 31)) or (month == 'сентябрь' and (day >= 1 or day <= 23)):\n",
    "    print('Вывод: Дева')\n",
    "elif (month == 'сентябрь' and (day >= 24 or day <= 30)) or (month == 'октябрь' and (day >= 1 or day <= 23)):\n",
    "    print('Вывод: Весы')\n",
    "elif (month == 'октябрь' and (day >= 24 or day <= 31)) or (month == 'ноябрь' and (day >= 1 or day <= 22)):\n",
    "    print('Вывод: Скорпион')\n",
    "elif (month == 'ноябрь' and (day >= 22 or day <= 30)) or (month == 'декабрь' and (day >= 1 or day <= 21)):\n",
    "    print('Вывод: Стрелец')\n",
    "elif (month == 'декабрь' and (day >= 21 or day <= 31)) or (month == 'январь' and (day >= 1 or day <= 20)):\n",
    "    print('Вывод: Козерог')\n",
    "elif (month == 'январь' and (day >= 21 or day <= 31)) or (month == 'февраль' and (day >= 1 or day <= 18)):\n",
    "    print('Вывод: Водолей')\n",
    "elif (month == 'февраль' and (day >= 19 or day <= 29)) or (month == 'март' and (day >= 1 or day <= 20)):\n",
    "    print('Вывод: Рыбы')\n",
    "else: \n",
    "    print('Введены не корректные данные, повторите попытку ')"
   ]
  },
  {
   "cell_type": "code",
   "execution_count": null,
   "metadata": {},
   "outputs": [],
   "source": [
    "**Задание 4**. Нужно разработать приложение для финансового планирования.\n",
    "Приложение учитывает сколько уходит на ипотеку, \"на жизнь\" и сколько нужно отложить на пенсию.\n",
    "Пользователь вводит:\n",
    "- заработанную плату в месяц.\n",
    "- сколько процентов от ЗП уходит на ипотеку.\n",
    "- сколько процентов от ЗП уходит \"на жизнь\".\n",
    "- сколько раз приходит премия в год.\n",
    "\n",
    "Остальная часть заработанной платы откладывается на пенсию.\n",
    "\n",
    "Также пользователю приходит премия в размере зарплаты, от которой половина уходит на отпуск, а вторая половина откладывается.\n",
    "\n",
    "Программа должна учитывать сколько премий было в год.\n",
    "\n",
    "Нужно вывести сколько денег тратит пользователь на ипотеку и сколько он накопит за год.\n",
    "\n",
    "Пример:\n",
    "\n",
    "Введите заработанную плату в месяц: 100000\n",
    "\n",
    "Введите сколько процентов уходит на ипотеку: 30\n",
    "\n",
    "Введите сколько процентов уходит на жизнь: 50\n",
    "\n",
    "Введите количество премий за год: 2\n",
    "\n",
    "Вывод:\n",
    "На ипотеку было потрачено: 360000 рублей\n",
    "Было накоплено: 340000 рублей"
   ]
  },
  {
   "cell_type": "code",
   "execution_count": 18,
   "metadata": {},
   "outputs": [
    {
     "name": "stdout",
     "output_type": "stream",
     "text": [
      "Введите заработную плату: 100000\n",
      "Введите сколько процентов от ЗП уходит на ипотеку: 30\n",
      "Введите сколько процентов от ЗП уходит \"на жизнь\": 50\n",
      "Введите сколько раз приходит премия в год: 2\n",
      "year_salary 1200000\n",
      "flat_costs 360000.0\n",
      "life_costs 600000.0\n",
      "premium 100000.0\n",
      "На ипотеку было потрачено:  360000.0  рублей\n",
      "Было накоплено:  340000.0  рублей\n"
     ]
    }
   ],
   "source": [
    "salary = int(input('Введите заработную плату: '))\n",
    "flat = int(input('Введите сколько процентов от ЗП уходит на ипотеку: '))\n",
    "life = int(input('Введите сколько процентов от ЗП уходит \"на жизнь\": '))\n",
    "premium_salary = int(input('Введите сколько раз приходит премия в год: '))\n",
    "year_salary = salary * 12\n",
    "flat_costs = salary / 100 * flat * 12\n",
    "life_costs = salary / 100 * life * 12\n",
    "premium = salary * premium_salary / 2\n",
    "final_budget = year_salary - flat_costs - life_costs + premium\n",
    "print('year_salary', year_salary)\n",
    "print('flat_costs', flat_costs)\n",
    "print('life_costs', life_costs)\n",
    "print('premium', premium)\n",
    "print('На ипотеку было потрачено: ', flat_costs, ' рублей' )\n",
    "print('Было накоплено: ', final_budget, ' рублей' )"
   ]
  },
  {
   "cell_type": "code",
   "execution_count": null,
   "metadata": {},
   "outputs": [],
   "source": []
  }
 ],
 "metadata": {
  "kernelspec": {
   "display_name": "Python 3",
   "language": "python",
   "name": "python3"
  },
  "language_info": {
   "codemirror_mode": {
    "name": "ipython",
    "version": 3
   },
   "file_extension": ".py",
   "mimetype": "text/x-python",
   "name": "python",
   "nbconvert_exporter": "python",
   "pygments_lexer": "ipython3",
   "version": "3.7.1"
  }
 },
 "nbformat": 4,
 "nbformat_minor": 2
}
