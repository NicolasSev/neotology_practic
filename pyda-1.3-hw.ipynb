{
 "cells": [
  {
   "cell_type": "markdown",
   "metadata": {},
   "source": [
    "## Задание 1"
   ]
  },
  {
   "cell_type": "markdown",
   "metadata": {},
   "source": [
    "Дан список вида:"
   ]
  },
  {
   "cell_type": "code",
   "execution_count": 17,
   "metadata": {},
   "outputs": [
    {
     "name": "stdout",
     "output_type": "stream",
     "text": [
      "13\n",
      "32\n",
      "23\n",
      "35\n"
     ]
    }
   ],
   "source": [
    "data = [\n",
    "    [13, 25, 23, 34],\n",
    "    [45, 32, 44, 47],\n",
    "    [12, 33, 23, 95],\n",
    "    [13, 53, 34, 35]\n",
    "]\n",
    "for i, line in enumerate(data):\n",
    "    print(line[i])"
   ]
  },
  {
   "cell_type": "markdown",
   "metadata": {},
   "source": [
    "Напишите функцию, которая возвращает сумму элементов на диагонали. Т. е. 13+32+23+35."
   ]
  },
  {
   "cell_type": "code",
   "execution_count": 37,
   "metadata": {},
   "outputs": [
    {
     "data": {
      "text/plain": [
       "103"
      ]
     },
     "execution_count": 37,
     "metadata": {},
     "output_type": "execute_result"
    }
   ],
   "source": [
    "def diagonal(data):\n",
    "    final_summ = 0\n",
    "    for i, line in enumerate(data):\n",
    "        final_summ = final_summ + line[i]\n",
    "    return final_summ\n",
    "diagonal(data)"
   ]
  },
  {
   "cell_type": "markdown",
   "metadata": {},
   "source": [
    "## Задание 2"
   ]
  },
  {
   "cell_type": "markdown",
   "metadata": {},
   "source": [
    "Дан список чисел, часть из которых имеют строковый тип или содержат буквы. Напишите функцию, которая возвращает сумму квадратов элементов, которые могут быть числами."
   ]
  },
  {
   "cell_type": "code",
   "execution_count": 38,
   "metadata": {},
   "outputs": [],
   "source": [
    "data = [1, '5', 'abc', 20, '2']"
   ]
  },
  {
   "cell_type": "code",
   "execution_count": 39,
   "metadata": {},
   "outputs": [
    {
     "ename": "ValueError",
     "evalue": "invalid literal for int() with base 10: 'abc'",
     "output_type": "error",
     "traceback": [
      "\u001b[0;31m---------------------------------------------------------------------------\u001b[0m",
      "\u001b[0;31mValueError\u001b[0m                                Traceback (most recent call last)",
      "\u001b[0;32m<ipython-input-39-1e11daa61250>\u001b[0m in \u001b[0;36m<module>\u001b[0;34m\u001b[0m\n\u001b[0;32m----> 1\u001b[0;31m \u001b[0mint\u001b[0m\u001b[0;34m(\u001b[0m\u001b[0;34m'abc'\u001b[0m\u001b[0;34m)\u001b[0m\u001b[0;34m\u001b[0m\u001b[0;34m\u001b[0m\u001b[0m\n\u001b[0m",
      "\u001b[0;31mValueError\u001b[0m: invalid literal for int() with base 10: 'abc'"
     ]
    }
   ],
   "source": [
    "int('abc')"
   ]
  },
  {
   "cell_type": "code",
   "execution_count": 44,
   "metadata": {},
   "outputs": [
    {
     "name": "stdout",
     "output_type": "stream",
     "text": [
      "430\n"
     ]
    }
   ],
   "source": [
    "def square(data):\n",
    "    square_summ = 0\n",
    "    for item in data:\n",
    "        try:\n",
    "            square_summ = square_summ + (int(item) * int(item) )\n",
    "        except:\n",
    "            pass\n",
    "    print(square_summ)\n",
    "square(data)"
   ]
  },
  {
   "cell_type": "markdown",
   "metadata": {},
   "source": [
    "## Задание 3"
   ]
  },
  {
   "cell_type": "markdown",
   "metadata": {},
   "source": [
    "Напишите функцию, возвращающую сумму первых n чисел Фибоначчи."
   ]
  },
  {
   "cell_type": "code",
   "execution_count": 54,
   "metadata": {},
   "outputs": [
    {
     "data": {
      "text/plain": [
       "[0, 1, 1, 2, 3, 5, 8, 13, 21, 34, 55, 89, 144, 233, 377]"
      ]
     },
     "execution_count": 54,
     "metadata": {},
     "output_type": "execute_result"
    }
   ],
   "source": [
    "# Попробовал написать сам без рекурсии\n",
    "def fibo(integer):\n",
    "    first = 0\n",
    "    second = 1\n",
    "    final_list = [0, 1]\n",
    "    count = 0\n",
    "    while count <= integer:\n",
    "        count = count + 1\n",
    "        next_fibo = final_list[-2] + final_list[-1]\n",
    "        final_list.append(next_fibo)\n",
    "    return final_list[:-3]\n",
    "fibo(15)"
   ]
  },
  {
   "cell_type": "markdown",
   "metadata": {},
   "source": [
    "## Задание 4"
   ]
  },
  {
   "cell_type": "markdown",
   "metadata": {},
   "source": [
    "Дан набор данных об обучении студентов на курсе программирования, который содержит: \n",
    "1) имя\n",
    "2) фамилию \n",
    "3) пол \n",
    "4) наличие у студента опыта в программировании \n",
    "5) набор оценок за домашние работы \n",
    "6) оценку за итоговую работу.\n",
    "\n",
    "Напишите программу, которая будет принимать команду от пользователя и возвращать соотвествующий результат.\n",
    "Список команд: \n",
    "1 - вывести на экран среднюю оценку за все ДЗ по группе и вывести на экран среднюю оценку за экзамен по группе;\n",
    "2 - вывести среднюю оценку за ДЗ и за экзамен по группе в разрезе пола студентов\n",
    "3 - вывести среднюю оценку за ДЗ и за экзамен в разрезе наличия опыта в программировании у студентов.\n",
    "\n",
    "Прогрмма должна быть полностью декомпозирована на функции (кроме объявления функций и вызова итоговой функции в реализации ничего быть не должно)."
   ]
  },
  {
   "cell_type": "code",
   "execution_count": 1,
   "metadata": {},
   "outputs": [],
   "source": [
    "students_list = [\n",
    "    {'name': 'Василий', 'surname': 'Теркин', 'sex': 'м', 'program_exp': True, 'grade': [8, 8, 9, 10, 9], 'exam': 9},\n",
    "    {'name': 'Мария', 'surname': 'Павлова', 'sex': 'ж', 'program_exp': True, 'grade': [7, 8, 9, 7, 9], 'exam': 8},\n",
    "    {'name': 'Ирина', 'surname': 'Андреева', 'sex': 'ж', 'program_exp': True, 'grade': [10, 9, 8, 10, 10], 'exam': 10},\n",
    "    {'name': 'Татьяна', 'surname': 'Сидорова', 'sex': 'ж', 'program_exp': True, 'grade': [7, 8, 8, 9, 8], 'exam': 8},\n",
    "    {'name': 'Иван', 'surname': 'Васильев', 'sex': 'ж', 'program_exp': True, 'grade': [9, 8, 9, 6, 9], 'exam': 10},\n",
    "    {'name': 'Роман', 'surname': 'Золотарев', 'sex': 'ж', 'program_exp': False, 'grade': [8, 9, 9, 6, 9], 'exam': 10}\n",
    "]"
   ]
  },
  {
   "cell_type": "code",
   "execution_count": 4,
   "metadata": {},
   "outputs": [
    {
     "name": "stdout",
     "output_type": "stream",
     "text": [
      "Номер задания3\n",
      "средняя оценка за все ДЗ по группе с опытом программирования: 8.48, без опыта программирования: 8.2\n",
      "средняя оценка за экзамены по группе с опытом программирования: 9.0, без опыта программирования: 10.0\n"
     ]
    }
   ],
   "source": [
    "def avg_hw():\n",
    "    grade_sum = 0\n",
    "    grade_count = 0\n",
    "    exam_sum = 0\n",
    "    for student in students_list:\n",
    "        grade_sum += sum(student['grade'])\n",
    "        grade_count += len(student['grade'])\n",
    "        exam_sum += student['exam']\n",
    "    avg_grade = grade_sum / grade_count\n",
    "    avg_exam = exam_sum / len(students_list)\n",
    "    print(f'средняя оценка за все ДЗ по группе {avg_grade} средняя оценка за экзамен по группе {avg_exam}')\n",
    "    \n",
    "def avg_hw_by_exp():\n",
    "    grade_m_sum =0 \n",
    "    grade_m_count = 0 \n",
    "    grade_f_sum = 0\n",
    "    grade_f_count = 0\n",
    "    exam_m_sum = 0\n",
    "    exam_f_sum = 0\n",
    "    exam_m_count = 0 \n",
    "    exam_f_count = 0\n",
    "    for student in students_list:\n",
    "        if not student['program_exp']:\n",
    "            grade_f_sum += sum(student['grade'])\n",
    "            grade_f_count += len(student['grade'])\n",
    "            exam_f_sum += student['exam']\n",
    "            exam_f_count += 1\n",
    "        else:\n",
    "            grade_m_sum += sum(student['grade'])\n",
    "            grade_m_count += len(student['grade'])\n",
    "            exam_m_sum += student['exam']\n",
    "            exam_m_count += 1\n",
    "    avg_m_grade = grade_m_sum / grade_m_count\n",
    "    avg_m_exam = exam_m_sum / exam_m_count\n",
    "    avg_f_grade = grade_f_sum / grade_f_count\n",
    "    avg_f_exam = exam_f_sum / exam_f_count\n",
    "    print(f'средняя оценка за все ДЗ по группе с опытом программирования: {avg_m_grade}, без опыта программирования: {avg_f_grade}')\n",
    "    print(f'средняя оценка за экзамены по группе с опытом программирования: {avg_m_exam}, без опыта программирования: {avg_f_exam}')\n",
    "         \n",
    "def avg_hw_by_sex():\n",
    "    grade_m_sum =0 \n",
    "    grade_m_count = 0 \n",
    "    grade_f_sum = 0\n",
    "    grade_f_count = 0\n",
    "    exam_m_sum = 0\n",
    "    exam_f_sum = 0\n",
    "    exam_m_count = 0 \n",
    "    exam_f_count = 0\n",
    "    \n",
    "\n",
    "    for student in students_list:\n",
    "        if student['sex'] == 'ж':\n",
    "            grade_f_sum += sum(student['grade'])\n",
    "            grade_f_count += len(student['grade'])\n",
    "            exam_f_sum += student['exam']\n",
    "            exam_f_count += 1\n",
    "        else:\n",
    "            grade_m_sum += sum(student['grade'])\n",
    "            grade_m_count += len(student['grade'])\n",
    "            exam_m_sum += student['exam']\n",
    "            exam_m_count += 1\n",
    "    avg_m_grade = grade_m_sum / grade_m_count\n",
    "    avg_m_exam = exam_m_sum / exam_m_count\n",
    "    avg_f_grade = grade_f_sum / grade_f_count\n",
    "    avg_f_exam = exam_f_sum / exam_f_count\n",
    "    print(f'средняя оценка за все ДЗ по группе мужчины: {avg_m_grade}, женщины: {avg_f_grade}')\n",
    "    print(f'средняя оценка за экзамены по группе мужчины: {avg_m_exam}, женщины: {avg_f_exam}')\n",
    "         \n",
    "        \n",
    "\n",
    "task = int(input('Номер задания'))\n",
    "\n",
    "\n",
    "if task == 1:\n",
    "    avg_hw()\n",
    "elif task == 2:\n",
    "    avg_hw_by_sex()\n",
    "elif task == 3:\n",
    "    avg_hw_by_exp()\n",
    "else:\n",
    "    print('Введите 1 или 2 или 3')"
   ]
  },
  {
   "cell_type": "code",
   "execution_count": null,
   "metadata": {},
   "outputs": [],
   "source": []
  }
 ],
 "metadata": {
  "kernelspec": {
   "display_name": "Python 3",
   "language": "python",
   "name": "python3"
  },
  "language_info": {
   "codemirror_mode": {
    "name": "ipython",
    "version": 3
   },
   "file_extension": ".py",
   "mimetype": "text/x-python",
   "name": "python",
   "nbconvert_exporter": "python",
   "pygments_lexer": "ipython3",
   "version": "3.7.1"
  }
 },
 "nbformat": 4,
 "nbformat_minor": 2
}
