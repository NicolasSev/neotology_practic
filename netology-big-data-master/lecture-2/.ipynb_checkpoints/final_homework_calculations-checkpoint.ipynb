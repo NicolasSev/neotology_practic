{
 "cells": [
  {
   "cell_type": "code",
   "execution_count": 1,
   "metadata": {},
   "outputs": [],
   "source": [
    "from pyspark.sql import SparkSession\n",
    "from IPython.display import display\n",
    "import numpy as np\n",
    "import pandas as pd\n",
    "import matplotlib.pyplot as plt\n",
    "import seaborn as sns"
   ]
  },
  {
   "cell_type": "code",
   "execution_count": 2,
   "metadata": {},
   "outputs": [],
   "source": [
    "%matplotlib inline"
   ]
  },
  {
   "cell_type": "code",
   "execution_count": 3,
   "metadata": {},
   "outputs": [],
   "source": [
    "WHITE_df = spark.read.csv('winequality-white.csv', header='true', inferSchema='true', sep=';')\n",
    "RED_df = spark.read.csv('winequality-red.csv', header='true', inferSchema='true', sep=';')"
   ]
  },
  {
   "cell_type": "code",
   "execution_count": 4,
   "metadata": {},
   "outputs": [
    {
     "data": {
      "text/plain": [
       "DataFrame[fixed acidity: double, volatile acidity: double, citric acid: double, residual sugar: double, chlorides: double, free sulfur dioxide: double, total sulfur dioxide: double, density: double, pH: double, sulphates: double, alcohol: double, quality: int]"
      ]
     },
     "execution_count": 4,
     "metadata": {},
     "output_type": "execute_result"
    }
   ],
   "source": [
    "WHITE_df\n",
    "RED_df"
   ]
  },
  {
   "cell_type": "raw",
   "metadata": {},
   "source": [
    "RED_df.printSchema()"
   ]
  },
  {
   "cell_type": "code",
   "execution_count": 5,
   "metadata": {},
   "outputs": [
    {
     "data": {
      "text/plain": [
       "[Row(fixed acidity=7.4, volatile acidity=0.7, citric acid=0.0, residual sugar=1.9, chlorides=0.076, free sulfur dioxide=11.0, total sulfur dioxide=34.0, density=0.9978, pH=3.51, sulphates=0.56, alcohol=9.4, quality=5),\n",
       " Row(fixed acidity=7.8, volatile acidity=0.88, citric acid=0.0, residual sugar=2.6, chlorides=0.098, free sulfur dioxide=25.0, total sulfur dioxide=67.0, density=0.9968, pH=3.2, sulphates=0.68, alcohol=9.8, quality=5),\n",
       " Row(fixed acidity=7.8, volatile acidity=0.76, citric acid=0.04, residual sugar=2.3, chlorides=0.092, free sulfur dioxide=15.0, total sulfur dioxide=54.0, density=0.997, pH=3.26, sulphates=0.65, alcohol=9.8, quality=5),\n",
       " Row(fixed acidity=11.2, volatile acidity=0.28, citric acid=0.56, residual sugar=1.9, chlorides=0.075, free sulfur dioxide=17.0, total sulfur dioxide=60.0, density=0.998, pH=3.16, sulphates=0.58, alcohol=9.8, quality=6),\n",
       " Row(fixed acidity=7.4, volatile acidity=0.7, citric acid=0.0, residual sugar=1.9, chlorides=0.076, free sulfur dioxide=11.0, total sulfur dioxide=34.0, density=0.9978, pH=3.51, sulphates=0.56, alcohol=9.4, quality=5)]"
      ]
     },
     "execution_count": 5,
     "metadata": {},
     "output_type": "execute_result"
    }
   ],
   "source": [
    "RED_df.head(5)"
   ]
  },
  {
   "cell_type": "code",
   "execution_count": 6,
   "metadata": {},
   "outputs": [
    {
     "data": {
      "text/plain": [
       "(4898, 1599)"
      ]
     },
     "execution_count": 6,
     "metadata": {},
     "output_type": "execute_result"
    }
   ],
   "source": [
    "WHITE_df.count(),RED_df.count()\n"
   ]
  },
  {
   "cell_type": "code",
   "execution_count": 7,
   "metadata": {},
   "outputs": [
    {
     "data": {
      "text/plain": [
       "(12,\n",
       " ['fixed acidity',\n",
       "  'volatile acidity',\n",
       "  'citric acid',\n",
       "  'residual sugar',\n",
       "  'chlorides',\n",
       "  'free sulfur dioxide',\n",
       "  'total sulfur dioxide',\n",
       "  'density',\n",
       "  'pH',\n",
       "  'sulphates',\n",
       "  'alcohol',\n",
       "  'quality'])"
      ]
     },
     "execution_count": 7,
     "metadata": {},
     "output_type": "execute_result"
    }
   ],
   "source": [
    "len(WHITE_df.columns), WHITE_df.columns"
   ]
  },
  {
   "cell_type": "code",
   "execution_count": 8,
   "metadata": {},
   "outputs": [
    {
     "data": {
      "text/plain": [
       "(12,\n",
       " ['fixed acidity',\n",
       "  'volatile acidity',\n",
       "  'citric acid',\n",
       "  'residual sugar',\n",
       "  'chlorides',\n",
       "  'free sulfur dioxide',\n",
       "  'total sulfur dioxide',\n",
       "  'density',\n",
       "  'pH',\n",
       "  'sulphates',\n",
       "  'alcohol',\n",
       "  'quality'])"
      ]
     },
     "execution_count": 8,
     "metadata": {},
     "output_type": "execute_result"
    }
   ],
   "source": [
    "len(RED_df.columns), RED_df.columns"
   ]
  },
  {
   "cell_type": "code",
   "execution_count": 9,
   "metadata": {},
   "outputs": [
    {
     "name": "stdout",
     "output_type": "stream",
     "text": [
      "+-------+--------------------+\n",
      "|summary|             density|\n",
      "+-------+--------------------+\n",
      "|  count|                4898|\n",
      "|   mean|  0.9940273764801896|\n",
      "| stddev|0.002990906916936997|\n",
      "|    min|             0.98711|\n",
      "|    max|             1.03898|\n",
      "+-------+--------------------+\n",
      "\n"
     ]
    }
   ],
   "source": [
    "WHITE_df.describe('density').show()"
   ]
  },
  {
   "cell_type": "code",
   "execution_count": 10,
   "metadata": {},
   "outputs": [
    {
     "name": "stdout",
     "output_type": "stream",
     "text": [
      "+-------+--------------------+\n",
      "|summary|             density|\n",
      "+-------+--------------------+\n",
      "|  count|                1599|\n",
      "|   mean|  0.9967466791744831|\n",
      "| stddev|0.001887333953842...|\n",
      "|    min|             0.99007|\n",
      "|    max|             1.00369|\n",
      "+-------+--------------------+\n",
      "\n"
     ]
    }
   ],
   "source": [
    "RED_df.describe('density').show()"
   ]
  },
  {
   "cell_type": "code",
   "execution_count": 11,
   "metadata": {},
   "outputs": [
    {
     "name": "stdout",
     "output_type": "stream",
     "text": [
      "+-------+-------+\n",
      "|density|quality|\n",
      "+-------+-------+\n",
      "|  1.001|      6|\n",
      "|  0.994|      6|\n",
      "| 0.9951|      6|\n",
      "| 0.9956|      6|\n",
      "| 0.9956|      6|\n",
      "+-------+-------+\n",
      "only showing top 5 rows\n",
      "\n"
     ]
    }
   ],
   "source": [
    "WHITE_df.select('density', 'quality').show(5)"
   ]
  },
  {
   "cell_type": "code",
   "execution_count": 12,
   "metadata": {},
   "outputs": [
    {
     "name": "stdout",
     "output_type": "stream",
     "text": [
      "+-------+-------+\n",
      "|density|quality|\n",
      "+-------+-------+\n",
      "| 0.9978|      5|\n",
      "| 0.9968|      5|\n",
      "|  0.997|      5|\n",
      "|  0.998|      6|\n",
      "| 0.9978|      5|\n",
      "+-------+-------+\n",
      "only showing top 5 rows\n",
      "\n"
     ]
    }
   ],
   "source": [
    "RED_df.select('density', 'quality').show(5)"
   ]
  },
  {
   "cell_type": "code",
   "execution_count": 13,
   "metadata": {},
   "outputs": [
    {
     "name": "stdout",
     "output_type": "stream",
     "text": [
      "+---------------+---+---+\n",
      "|density_quality|  8|  9|\n",
      "+---------------+---+---+\n",
      "|         0.9901|  1|  0|\n",
      "|        0.99518|  2|  0|\n",
      "|        0.99228|  2|  0|\n",
      "|        0.99508|  2|  0|\n",
      "|        0.99139|  1|  0|\n",
      "+---------------+---+---+\n",
      "only showing top 5 rows\n",
      "\n"
     ]
    }
   ],
   "source": [
    "WHITE_df.filter(WHITE_df.quality > 7).crosstab('density', 'quality').show(5)"
   ]
  },
  {
   "cell_type": "code",
   "execution_count": 14,
   "metadata": {},
   "outputs": [
    {
     "name": "stdout",
     "output_type": "stream",
     "text": [
      "+---------------+---+\n",
      "|density_quality|  8|\n",
      "+---------------+---+\n",
      "|        0.99417|  1|\n",
      "|         0.9976|  1|\n",
      "|          0.996|  1|\n",
      "|        0.99419|  1|\n",
      "|        0.99462|  1|\n",
      "+---------------+---+\n",
      "only showing top 5 rows\n",
      "\n"
     ]
    }
   ],
   "source": [
    "RED_df.filter(RED_df.quality > 7).crosstab('density', 'quality').show(5)"
   ]
  },
  {
   "cell_type": "code",
   "execution_count": 15,
   "metadata": {},
   "outputs": [],
   "source": [
    "WHITE_good_quality = WHITE_df.filter(WHITE_df.quality > 7)"
   ]
  },
  {
   "cell_type": "code",
   "execution_count": 16,
   "metadata": {},
   "outputs": [],
   "source": [
    "RED_good_quality = RED_df.filter(RED_df.quality > 7)"
   ]
  },
  {
   "cell_type": "code",
   "execution_count": 17,
   "metadata": {
    "scrolled": false
   },
   "outputs": [
    {
     "name": "stdout",
     "output_type": "stream",
     "text": [
      "+-------+--------------------+-------------------+------------------+\n",
      "|summary|total sulfur dioxide|free sulfur dioxide|           alcohol|\n",
      "+-------+--------------------+-------------------+------------------+\n",
      "|  count|                 180|                180|               180|\n",
      "|   mean|  125.88333333333334|  36.62777777777778|11.651111111111117|\n",
      "| stddev|   32.71965308990949|  16.11066150189227| 1.274348947102793|\n",
      "|    min|                59.0|                6.0|               8.5|\n",
      "|    max|               212.5|              105.0|              14.0|\n",
      "+-------+--------------------+-------------------+------------------+\n",
      "\n"
     ]
    }
   ],
   "source": [
    "WHITE_good_quality.describe('total sulfur dioxide', 'free sulfur dioxide', 'alcohol').show()"
   ]
  },
  {
   "cell_type": "code",
   "execution_count": 18,
   "metadata": {
    "scrolled": true
   },
   "outputs": [
    {
     "name": "stdout",
     "output_type": "stream",
     "text": [
      "+-------+--------------------+-------------------+------------------+\n",
      "|summary|total sulfur dioxide|free sulfur dioxide|           alcohol|\n",
      "+-------+--------------------+-------------------+------------------+\n",
      "|  count|                4898|               4898|              4898|\n",
      "|   mean|  138.36065741118824|  35.30808493262556|10.514267047774638|\n",
      "| stddev|  42.498064554142985|  17.00713732523259|  1.23062056775732|\n",
      "|    min|                 9.0|                2.0|               8.0|\n",
      "|    max|               440.0|              289.0|              14.2|\n",
      "+-------+--------------------+-------------------+------------------+\n",
      "\n"
     ]
    }
   ],
   "source": [
    "WHITE_df.describe('total sulfur dioxide', 'free sulfur dioxide', 'alcohol').show()"
   ]
  },
  {
   "cell_type": "code",
   "execution_count": 19,
   "metadata": {},
   "outputs": [
    {
     "name": "stdout",
     "output_type": "stream",
     "text": [
      "+-------+-------------------+-------------------+------------------+\n",
      "|summary|                 pH|          sulphates|           alcohol|\n",
      "+-------+-------------------+-------------------+------------------+\n",
      "|  count|                 18|                 18|                18|\n",
      "|   mean| 3.2672222222222214| 0.7677777777777778|12.094444444444443|\n",
      "| stddev|0.20064031486147654|0.11537945354634682|1.2240108718385976|\n",
      "|    min|               2.88|               0.63|               9.8|\n",
      "|    max|               3.72|                1.1|              14.0|\n",
      "+-------+-------------------+-------------------+------------------+\n",
      "\n"
     ]
    }
   ],
   "source": [
    "RED_good_quality.describe('pH', 'sulphates', 'alcohol').show()"
   ]
  },
  {
   "cell_type": "code",
   "execution_count": 20,
   "metadata": {},
   "outputs": [],
   "source": [
    "white_ph = WHITE_df.select(\"pH\")"
   ]
  },
  {
   "cell_type": "code",
   "execution_count": 21,
   "metadata": {},
   "outputs": [
    {
     "name": "stdout",
     "output_type": "stream",
     "text": [
      "+-------+-------------------+\n",
      "|summary|                 pH|\n",
      "+-------+-------------------+\n",
      "|  count|               4898|\n",
      "|   mean| 3.1882666394446693|\n",
      "| stddev|0.15100059961506673|\n",
      "|    min|               2.72|\n",
      "|    max|               3.82|\n",
      "+-------+-------------------+\n",
      "\n"
     ]
    }
   ],
   "source": [
    "white_ph.describe().show()"
   ]
  },
  {
   "cell_type": "code",
   "execution_count": 22,
   "metadata": {},
   "outputs": [],
   "source": [
    "white_ph_plot = WHITE_df.groupBy(\"pH\").count().orderBy(\"pH\")"
   ]
  },
  {
   "cell_type": "code",
   "execution_count": 23,
   "metadata": {},
   "outputs": [
    {
     "name": "stdout",
     "output_type": "stream",
     "text": [
      "+-------+------------------+\n",
      "|quality|      avg(alcohol)|\n",
      "+-------+------------------+\n",
      "|      8|12.094444444444443|\n",
      "+-------+------------------+\n",
      "\n"
     ]
    }
   ],
   "source": [
    "RED_good_quality.groupby('quality').agg({'alcohol': 'mean'}).show()"
   ]
  },
  {
   "cell_type": "code",
   "execution_count": 24,
   "metadata": {},
   "outputs": [
    {
     "name": "stdout",
     "output_type": "stream",
     "text": [
      "+-------+------------------+\n",
      "|quality|      avg(alcohol)|\n",
      "+-------+------------------+\n",
      "|      9|             12.18|\n",
      "|      8|11.636000000000003|\n",
      "+-------+------------------+\n",
      "\n"
     ]
    }
   ],
   "source": [
    "WHITE_good_quality.groupby('quality').agg({'alcohol': 'mean'}).show()"
   ]
  },
  {
   "cell_type": "code",
   "execution_count": 25,
   "metadata": {},
   "outputs": [
    {
     "name": "stdout",
     "output_type": "stream",
     "text": [
      "+-------+------------------+\n",
      "|quality|      avg(alcohol)|\n",
      "+-------+------------------+\n",
      "|      9|             12.18|\n",
      "|      8|11.636000000000003|\n",
      "|      7|11.367935606060604|\n",
      "|      6|10.575371549893866|\n",
      "|      5| 9.808840082361009|\n",
      "|      4| 10.15245398773007|\n",
      "|      3|            10.345|\n",
      "+-------+------------------+\n",
      "\n",
      "+-------+------------------+\n",
      "|quality|      avg(alcohol)|\n",
      "+-------+------------------+\n",
      "|      8|12.094444444444443|\n",
      "|      7|11.465912897822443|\n",
      "|      6|10.629519331243463|\n",
      "|      5| 9.899706314243753|\n",
      "|      4|10.265094339622639|\n",
      "|      3| 9.955000000000002|\n",
      "+-------+------------------+\n",
      "\n"
     ]
    }
   ],
   "source": [
    "preordered_white = WHITE_df.groupby('quality').agg({'alcohol': 'mean'})\n",
    "preordered_red = RED_df.groupby('quality').agg({'alcohol': 'mean'})\n",
    "preordered_white.orderBy(preordered_white.quality.desc()).show(7)\n",
    "preordered_red.orderBy(preordered_red.quality.desc()).show(7)"
   ]
  },
  {
   "cell_type": "code",
   "execution_count": 26,
   "metadata": {},
   "outputs": [
    {
     "name": "stdout",
     "output_type": "stream",
     "text": [
      "+-------+------------------+\n",
      "|quality|      avg(alcohol)|\n",
      "+-------+------------------+\n",
      "|      6|10.629519331243463|\n",
      "|      3| 9.955000000000002|\n",
      "|      5| 9.899706314243753|\n",
      "|      4|10.265094339622639|\n",
      "|      8|12.094444444444443|\n",
      "|      7|11.465912897822443|\n",
      "+-------+------------------+\n",
      "\n"
     ]
    }
   ],
   "source": [
    "RED_df.groupby('quality').agg({'alcohol': 'mean'}).show()"
   ]
  },
  {
   "cell_type": "code",
   "execution_count": 27,
   "metadata": {},
   "outputs": [
    {
     "name": "stdout",
     "output_type": "stream",
     "text": [
      "+-------+-----+\n",
      "|alcohol|count|\n",
      "+-------+-----+\n",
      "|   13.4|   20|\n",
      "|  10.65|    1|\n",
      "|   9.55|    2|\n",
      "|   10.2|  130|\n",
      "|    8.0|    2|\n",
      "+-------+-----+\n",
      "only showing top 5 rows\n",
      "\n"
     ]
    }
   ],
   "source": [
    "WHITE_df.groupby('alcohol').count().show(5)"
   ]
  },
  {
   "cell_type": "code",
   "execution_count": 28,
   "metadata": {
    "scrolled": true
   },
   "outputs": [
    {
     "name": "stdout",
     "output_type": "stream",
     "text": [
      "+-------------+----------------+-----------+--------------+---------+-------------------+--------------------+-------+----+---------+-------+-------+\n",
      "|fixed acidity|volatile acidity|citric acid|residual sugar|chlorides|free sulfur dioxide|total sulfur dioxide|density|  pH|sulphates|alcohol|quality|\n",
      "+-------------+----------------+-----------+--------------+---------+-------------------+--------------------+-------+----+---------+-------+-------+\n",
      "|          6.4|            0.35|       0.28|           1.6|    0.037|               31.0|               113.0|0.98779|3.12|      0.4|   14.2|      7|\n",
      "|          5.8|            0.61|       0.01|           8.4|    0.041|               31.0|               104.0| 0.9909|3.26|     0.72|  14.05|      7|\n",
      "|          4.7|           0.455|       0.18|           1.9|    0.036|               33.0|               106.0|0.98746|3.21|     0.83|   14.0|      7|\n",
      "|          5.8|            0.29|       0.21|           2.6|    0.025|               12.0|               120.0| 0.9894|3.39|     0.79|   14.0|      7|\n",
      "|          5.8|            0.39|       0.47|           7.5|    0.027|               12.0|                88.0| 0.9907|3.38|     0.45|   14.0|      6|\n",
      "+-------------+----------------+-----------+--------------+---------+-------------------+--------------------+-------+----+---------+-------+-------+\n",
      "only showing top 5 rows\n",
      "\n"
     ]
    }
   ],
   "source": [
    "WHITE_df.orderBy(WHITE_df.alcohol.desc()).show(5)"
   ]
  },
  {
   "cell_type": "code",
   "execution_count": 29,
   "metadata": {},
   "outputs": [],
   "source": [
    "white_df = spark.read.csv('winequality-white.csv', header='true', inferSchema='true', sep=';')"
   ]
  },
  {
   "cell_type": "code",
   "execution_count": 30,
   "metadata": {},
   "outputs": [
    {
     "name": "stdout",
     "output_type": "stream",
     "text": [
      "root\n",
      " |-- fixed acidity: double (nullable = true)\n",
      " |-- volatile acidity: double (nullable = true)\n",
      " |-- citric acid: double (nullable = true)\n",
      " |-- residual sugar: double (nullable = true)\n",
      " |-- chlorides: double (nullable = true)\n",
      " |-- free sulfur dioxide: double (nullable = true)\n",
      " |-- total sulfur dioxide: double (nullable = true)\n",
      " |-- density: double (nullable = true)\n",
      " |-- pH: double (nullable = true)\n",
      " |-- sulphates: double (nullable = true)\n",
      " |-- alcohol: double (nullable = true)\n",
      " |-- quality: integer (nullable = true)\n",
      "\n",
      "Rows: 4898\n"
     ]
    }
   ],
   "source": [
    "white_df.printSchema()\n",
    "print(\"Rows: %s\" % white_df.count())"
   ]
  },
  {
   "cell_type": "code",
   "execution_count": 31,
   "metadata": {},
   "outputs": [
    {
     "data": {
      "text/plain": [
       "[Row(fixed acidity=7.0, volatile acidity=0.27, citric acid=0.36, residual sugar=20.7, chlorides=0.045, free sulfur dioxide=45.0, total sulfur dioxide=170.0, density=1.001, pH=3.0, sulphates=0.45, alcohol=8.8, quality=6),\n",
       " Row(fixed acidity=6.3, volatile acidity=0.3, citric acid=0.34, residual sugar=1.6, chlorides=0.049, free sulfur dioxide=14.0, total sulfur dioxide=132.0, density=0.994, pH=3.3, sulphates=0.49, alcohol=9.5, quality=6),\n",
       " Row(fixed acidity=8.1, volatile acidity=0.28, citric acid=0.4, residual sugar=6.9, chlorides=0.05, free sulfur dioxide=30.0, total sulfur dioxide=97.0, density=0.9951, pH=3.26, sulphates=0.44, alcohol=10.1, quality=6),\n",
       " Row(fixed acidity=7.2, volatile acidity=0.23, citric acid=0.32, residual sugar=8.5, chlorides=0.058, free sulfur dioxide=47.0, total sulfur dioxide=186.0, density=0.9956, pH=3.19, sulphates=0.4, alcohol=9.9, quality=6),\n",
       " Row(fixed acidity=7.2, volatile acidity=0.23, citric acid=0.32, residual sugar=8.5, chlorides=0.058, free sulfur dioxide=47.0, total sulfur dioxide=186.0, density=0.9956, pH=3.19, sulphates=0.4, alcohol=9.9, quality=6)]"
      ]
     },
     "metadata": {},
     "output_type": "display_data"
    }
   ],
   "source": [
    "display(white_df.head(5))"
   ]
  },
  {
   "cell_type": "code",
   "execution_count": 32,
   "metadata": {},
   "outputs": [],
   "source": [
    "from pyspark.mllib.linalg import Vectors"
   ]
  },
  {
   "cell_type": "code",
   "execution_count": 33,
   "metadata": {},
   "outputs": [],
   "source": [
    "from pyspark.ml.feature import VectorAssembler"
   ]
  },
  {
   "cell_type": "code",
   "execution_count": 34,
   "metadata": {},
   "outputs": [],
   "source": [
    "featureColumns = [c for c in white_df.columns if c != 'quality']"
   ]
  },
  {
   "cell_type": "code",
   "execution_count": 35,
   "metadata": {},
   "outputs": [],
   "source": [
    "assembler = VectorAssembler(inputCols=featureColumns, outputCol=\"features\")"
   ]
  },
  {
   "cell_type": "code",
   "execution_count": 36,
   "metadata": {},
   "outputs": [],
   "source": [
    "dataDF = assembler.transform(white_df)"
   ]
  },
  {
   "cell_type": "code",
   "execution_count": 37,
   "metadata": {},
   "outputs": [
    {
     "name": "stdout",
     "output_type": "stream",
     "text": [
      "root\n",
      " |-- fixed acidity: double (nullable = true)\n",
      " |-- volatile acidity: double (nullable = true)\n",
      " |-- citric acid: double (nullable = true)\n",
      " |-- residual sugar: double (nullable = true)\n",
      " |-- chlorides: double (nullable = true)\n",
      " |-- free sulfur dioxide: double (nullable = true)\n",
      " |-- total sulfur dioxide: double (nullable = true)\n",
      " |-- density: double (nullable = true)\n",
      " |-- pH: double (nullable = true)\n",
      " |-- sulphates: double (nullable = true)\n",
      " |-- alcohol: double (nullable = true)\n",
      " |-- quality: integer (nullable = true)\n",
      " |-- features: vector (nullable = true)\n",
      "\n"
     ]
    }
   ],
   "source": [
    "dataDF.printSchema()"
   ]
  },
  {
   "cell_type": "code",
   "execution_count": 38,
   "metadata": {},
   "outputs": [],
   "source": [
    "from pyspark.ml.regression import LinearRegression"
   ]
  },
  {
   "cell_type": "code",
   "execution_count": 39,
   "metadata": {},
   "outputs": [],
   "source": [
    "lr = LinearRegression(maxIter=30, regParam=0.3, elasticNetParam=0.3, featuresCol=\"features\", labelCol=\"quality\")"
   ]
  },
  {
   "cell_type": "code",
   "execution_count": 40,
   "metadata": {},
   "outputs": [
    {
     "ename": "NameError",
     "evalue": "name 'lrModel' is not defined",
     "output_type": "error",
     "traceback": [
      "\u001b[0;31m---------------------------------------------------------------------------\u001b[0m",
      "\u001b[0;31mNameError\u001b[0m                                 Traceback (most recent call last)",
      "\u001b[0;32m<ipython-input-40-4f4e74371b00>\u001b[0m in \u001b[0;36m<module>\u001b[0;34m\u001b[0m\n\u001b[0;32m----> 1\u001b[0;31m \u001b[0;32mfor\u001b[0m \u001b[0ms\u001b[0m \u001b[0;32min\u001b[0m \u001b[0mzip\u001b[0m\u001b[0;34m(\u001b[0m\u001b[0mfeatureColumns\u001b[0m\u001b[0;34m,\u001b[0m \u001b[0mlrModel\u001b[0m\u001b[0;34m.\u001b[0m\u001b[0mcoefficients\u001b[0m\u001b[0;34m)\u001b[0m\u001b[0;34m:\u001b[0m \u001b[0mprint\u001b[0m\u001b[0;34m(\u001b[0m\u001b[0ms\u001b[0m\u001b[0;34m)\u001b[0m\u001b[0;34m\u001b[0m\u001b[0;34m\u001b[0m\u001b[0m\n\u001b[0m",
      "\u001b[0;31mNameError\u001b[0m: name 'lrModel' is not defined"
     ]
    }
   ],
   "source": [
    "for s in zip(featureColumns, lrModel.coefficients): print(s)"
   ]
  },
  {
   "cell_type": "code",
   "execution_count": null,
   "metadata": {},
   "outputs": [],
   "source": [
    "predictionsDF = lrModel.transform(dataDF)"
   ]
  },
  {
   "cell_type": "code",
   "execution_count": null,
   "metadata": {},
   "outputs": [],
   "source": [
    "predictionsDF.orderBy(predictionsDF.quality.desc()).show(300)"
   ]
  },
  {
   "cell_type": "code",
   "execution_count": null,
   "metadata": {},
   "outputs": [],
   "source": [
    "from pyspark.ml.evaluation import RegressionEvaluator"
   ]
  },
  {
   "cell_type": "code",
   "execution_count": null,
   "metadata": {},
   "outputs": [],
   "source": [
    "evaluator = RegressionEvaluator(\n",
    "    labelCol='quality', predictionCol=\"prediction\", metricName=\"rmse\")\n",
    "rmse = evaluator.evaluate(predictionsDF)\n",
    "print(\"Root Mean Squared Error (RMSE) = %g\" % rmse)"
   ]
  },
  {
   "cell_type": "code",
   "execution_count": null,
   "metadata": {},
   "outputs": [],
   "source": [
    "from pyspark.sql.functions import *"
   ]
  },
  {
   "cell_type": "code",
   "execution_count": null,
   "metadata": {},
   "outputs": [],
   "source": [
    "avgQuality = white_df.groupBy().avg('quality').first()[0]\n",
    "print(avgQuality)"
   ]
  },
  {
   "cell_type": "code",
   "execution_count": null,
   "metadata": {},
   "outputs": [],
   "source": [
    "zeroModelPredictionsDF = dataDF.select(col('quality'), lit(avgQuality).alias('prediction'))"
   ]
  },
  {
   "cell_type": "code",
   "execution_count": null,
   "metadata": {},
   "outputs": [],
   "source": [
    "zeroModelRmse = evaluator.evaluate(zeroModelPredictionsDF)\n",
    "print(\"RMSE of 'zero model' = %g\" % zeroModelRmse)"
   ]
  },
  {
   "cell_type": "code",
   "execution_count": null,
   "metadata": {},
   "outputs": [],
   "source": [
    "(trainingDF, testDF) = white_df.randomSplit([0.7, 0.3])"
   ]
  },
  {
   "cell_type": "code",
   "execution_count": null,
   "metadata": {},
   "outputs": [],
   "source": [
    "from pyspark.ml import Pipeline"
   ]
  },
  {
   "cell_type": "code",
   "execution_count": null,
   "metadata": {},
   "outputs": [],
   "source": [
    "pipeline = Pipeline(stages=[assembler, lr])"
   ]
  },
  {
   "cell_type": "code",
   "execution_count": null,
   "metadata": {},
   "outputs": [],
   "source": [
    "lrPipelineModel = pipeline.fit(trainingDF)"
   ]
  },
  {
   "cell_type": "code",
   "execution_count": null,
   "metadata": {},
   "outputs": [],
   "source": [
    "traningPredictionsDF = lrPipelineModel.transform(trainingDF)\n",
    "testPredictionsDF = lrPipelineModel.transform(testDF)"
   ]
  },
  {
   "cell_type": "code",
   "execution_count": null,
   "metadata": {},
   "outputs": [],
   "source": [
    "print(\"RMSE on traning data = %g\" % evaluator.evaluate(traningPredictionsDF))\n",
    "\n",
    "print(\"RMSE on test data = %g\" % evaluator.evaluate(testPredictionsDF))"
   ]
  },
  {
   "cell_type": "code",
   "execution_count": null,
   "metadata": {},
   "outputs": [],
   "source": [
    "from pyspark.ml.tuning import ParamGridBuilder\n",
    "from pyspark.ml.tuning import CrossValidator"
   ]
  },
  {
   "cell_type": "code",
   "execution_count": null,
   "metadata": {},
   "outputs": [],
   "source": [
    "search_grid = ParamGridBuilder() \\\n",
    "    .addGrid(lr.regParam, [0.0, 0.3, 0.6]) \\\n",
    "    .addGrid(lr.elasticNetParam, [0.4, 0.6, 0.8]).build()"
   ]
  },
  {
   "cell_type": "code",
   "execution_count": null,
   "metadata": {},
   "outputs": [],
   "source": [
    "cv = CrossValidator(estimator = pipeline, estimatorParamMaps = search_grid, evaluator = evaluator, numFolds = 3)\n",
    "cvModel = cv.fit(trainingDF)"
   ]
  },
  {
   "cell_type": "code",
   "execution_count": null,
   "metadata": {},
   "outputs": [],
   "source": [
    "cvTestPredictionsDF = cvModel.transform(testDF)\n",
    "print(\"RMSE on test data with CV = %g\" % evaluator.evaluate(cvTestPredictionsDF))"
   ]
  },
  {
   "cell_type": "code",
   "execution_count": null,
   "metadata": {},
   "outputs": [],
   "source": [
    "print(cvModel.avgMetrics)"
   ]
  },
  {
   "cell_type": "code",
   "execution_count": null,
   "metadata": {},
   "outputs": [],
   "source": [
    "from pyspark.ml.regression import RandomForestRegressor"
   ]
  },
  {
   "cell_type": "code",
   "execution_count": null,
   "metadata": {},
   "outputs": [],
   "source": [
    "rf = RandomForestRegressor(featuresCol=\"features\", labelCol=\"quality\", numTrees=100, maxBins=128, maxDepth=20, \\\n",
    "                           minInstancesPerNode=5, seed=33)\n",
    "rfPipeline = Pipeline(stages=[assembler, rf])"
   ]
  },
  {
   "cell_type": "code",
   "execution_count": null,
   "metadata": {},
   "outputs": [],
   "source": [
    "rfPipelineModel = rfPipeline.fit(trainingDF)"
   ]
  },
  {
   "cell_type": "code",
   "execution_count": null,
   "metadata": {},
   "outputs": [],
   "source": [
    "rfTrainingPredictions = rfPipelineModel.transform(trainingDF)\n",
    "rfTestPredictions = rfPipelineModel.transform(testDF)\n",
    "print(\"Random Forest RMSE on traning data = %g\" % evaluator.evaluate(rfTrainingPredictions))\n",
    "print(\"Random Forest RMSE on test data = %g\" % evaluator.evaluate(rfTestPredictions))"
   ]
  },
  {
   "cell_type": "code",
   "execution_count": null,
   "metadata": {},
   "outputs": [],
   "source": [
    "rfModel = rfPipelineModel.stages[1]\n",
    "rfModel.featureImportances"
   ]
  },
  {
   "cell_type": "code",
   "execution_count": 41,
   "metadata": {},
   "outputs": [],
   "source": [
    "from pyspark.mllib.linalg import Vectors\n",
    "from pyspark.ml.feature import PCA\n",
    "from pyspark.ml.feature import Normalizer\n",
    "from pyspark.ml.feature import VectorAssembler\n",
    "from pyspark.ml import Pipeline"
   ]
  },
  {
   "cell_type": "code",
   "execution_count": 42,
   "metadata": {},
   "outputs": [
    {
     "data": {
      "text/plain": [
       "DataFrame[features: vector, norm_features: vector, pca_features: vector]"
      ]
     },
     "metadata": {},
     "output_type": "display_data"
    }
   ],
   "source": [
    "all_assembler = VectorAssembler(\n",
    "    inputCols=featureColumns,\n",
    "    outputCol=\"features\")\n",
    "normalizer = Normalizer(inputCol=\"features\", outputCol=\"norm_features\")\n",
    "pca = PCA(k=2, inputCol=\"norm_features\", outputCol=\"pca_features\")\n",
    "\n",
    "pca_pipeline = Pipeline(stages=[all_assembler, normalizer, pca])\n",
    "\n",
    "pca_model = pca_pipeline.fit(white_df)\n",
    "\n",
    "display(pca_model.transform(white_df).select('features', 'norm_features', 'pca_features').limit(3))"
   ]
  },
  {
   "cell_type": "code",
   "execution_count": 43,
   "metadata": {},
   "outputs": [
    {
     "name": "stdout",
     "output_type": "stream",
     "text": [
      "+-------------+----------------+-----------+--------------+---------+-------------------+--------------------+-------+----+---------+-------+-------+\n",
      "|fixed acidity|volatile acidity|citric acid|residual sugar|chlorides|free sulfur dioxide|total sulfur dioxide|density|  pH|sulphates|alcohol|quality|\n",
      "+-------------+----------------+-----------+--------------+---------+-------------------+--------------------+-------+----+---------+-------+-------+\n",
      "|          9.1|            0.27|       0.45|          10.6|    0.035|               28.0|               124.0|  0.997| 3.2|     0.46|   10.4|      9|\n",
      "|          6.9|            0.36|       0.34|           4.2|    0.018|               57.0|               119.0| 0.9898|3.28|     0.36|   12.7|      9|\n",
      "|          6.6|            0.36|       0.29|           1.6|    0.021|               24.0|                85.0|0.98965|3.41|     0.61|   12.4|      9|\n",
      "|          7.1|            0.26|       0.49|           2.2|    0.032|               31.0|               113.0| 0.9903|3.37|     0.42|   12.9|      9|\n",
      "|          7.4|            0.24|       0.36|           2.0|    0.031|               27.0|               139.0|0.99055|3.28|     0.48|   12.5|      9|\n",
      "|          6.0|            0.25|       0.28|           2.2|    0.026|               54.0|               126.0| 0.9898|3.43|     0.65|   12.9|      8|\n",
      "|          5.9|            0.27|       0.29|          11.4|    0.036|               31.0|               115.0| 0.9949|3.35|     0.48|   10.5|      8|\n",
      "|          6.7|            0.23|       0.31|           2.1|    0.046|               30.0|                96.0| 0.9926|3.33|     0.64|   10.7|      8|\n",
      "|          5.2|            0.44|       0.04|           1.4|    0.036|               43.0|               119.0| 0.9894|3.36|     0.33|   12.1|      8|\n",
      "|          6.5|            0.36|       0.28|           3.2|    0.037|               29.0|               119.0| 0.9908|3.25|     0.65|   12.4|      8|\n",
      "|          6.2|            0.24|       0.29|          13.3|    0.039|               49.0|               130.0| 0.9952|3.33|     0.46|   11.0|      8|\n",
      "|          7.1|            0.32|       0.34|          14.5|    0.039|               46.0|               150.0|  0.995|3.38|      0.5|   12.5|      8|\n",
      "|          6.6|            0.33|       0.31|           1.3|     0.02|               29.0|                89.0|0.99035|3.26|     0.44|   12.4|      8|\n",
      "|          7.1|            0.25|       0.39|           2.1|    0.036|               30.0|               124.0| 0.9908|3.28|     0.43|   12.2|      8|\n",
      "|          7.9|            0.28|       0.41|           2.0|    0.044|               50.0|               152.0| 0.9934|3.45|     0.49|   10.7|      8|\n",
      "|          6.8|            0.53|       0.35|           3.8|    0.034|               26.0|               109.0| 0.9906|3.26|     0.57|   12.7|      8|\n",
      "|          5.2|            0.24|       0.45|           3.8|    0.027|               21.0|               128.0|  0.992|3.55|     0.49|   11.2|      8|\n",
      "|          7.0|            0.24|       0.36|           2.8|    0.034|               22.0|               112.0|   0.99|3.19|     0.38|   12.6|      8|\n",
      "|          5.3|            0.24|       0.33|           1.3|    0.033|               25.0|                97.0| 0.9906|3.59|     0.38|   11.0|      8|\n",
      "|          5.0|            0.55|       0.14|           8.3|    0.032|               35.0|               164.0| 0.9918|3.53|     0.51|   12.5|      8|\n",
      "|          7.0|            0.15|       0.38|           2.2|    0.047|               33.0|                96.0| 0.9928|3.13|     0.39|   10.4|      8|\n",
      "|          6.9|            0.21|       0.28|           2.4|    0.056|               49.0|               159.0| 0.9944|3.02|     0.47|    8.8|      8|\n",
      "|          6.1|            0.31|       0.37|           8.4|    0.031|               70.0|               170.0| 0.9934|3.42|      0.4|   11.7|      8|\n",
      "|          7.1|            0.26|       0.31|           2.2|    0.044|               29.0|               128.0| 0.9937|3.34|     0.64|   10.9|      8|\n",
      "|          8.2|            0.37|       0.36|           1.0|    0.034|               17.0|                93.0| 0.9906|3.04|     0.32|   11.7|      8|\n",
      "|          7.0|            0.23|       0.36|           7.1|    0.028|               31.0|               104.0| 0.9922|3.35|     0.47|   12.1|      8|\n",
      "|          6.8|            0.19|       0.32|          7.05|    0.019|               54.0|               188.0| 0.9935|3.25|     0.37|   11.1|      8|\n",
      "|          6.7|            0.26|       0.39|           1.1|     0.04|               45.0|               147.0| 0.9935|3.32|     0.58|    9.6|      8|\n",
      "|          8.0|            0.45|       0.36|           8.8|    0.026|               50.0|               151.0| 0.9927|3.07|     0.25|   12.7|      8|\n",
      "|          6.4|            0.32|       0.35|           4.8|     0.03|               34.0|               101.0| 0.9912|3.36|      0.6|   12.5|      8|\n",
      "|          7.0|            0.24|       0.32|           1.3|    0.037|               39.0|               123.0|  0.992|3.17|     0.42|   11.2|      8|\n",
      "|          8.1|            0.17|       0.44|          14.1|    0.053|               43.0|               145.0| 1.0006|3.28|     0.75|    8.8|      8|\n",
      "|          6.0|            0.18|       0.31|           1.4|    0.036|               14.0|                75.0|0.99085|3.34|     0.58|   11.1|      8|\n",
      "|          5.2|            0.24|       0.45|           3.8|    0.027|               21.0|               128.0|  0.992|3.55|     0.49|   11.2|      8|\n",
      "|          6.8|            0.26|       0.42|           1.7|    0.049|               41.0|               122.0|  0.993|3.47|     0.48|   10.5|      8|\n",
      "|          7.5|            0.42|       0.34|           4.3|     0.04|               34.0|               108.0|0.99155|3.14|     0.45|   12.8|      8|\n",
      "|          6.0|            0.26|       0.42|           5.2|    0.027|               70.0|               178.0| 0.9914| 3.4|      0.4|   12.3|      8|\n",
      "|          7.3|            0.25|       0.36|           2.1|    0.034|               30.0|               177.0|0.99085|3.25|      0.4|   11.9|      8|\n",
      "|          7.3|            0.21|       0.29|           1.6|    0.034|               29.0|               118.0| 0.9917| 3.3|      0.5|   11.0|      8|\n",
      "|          6.6|            0.21|       0.38|           2.2|    0.026|               40.0|               104.0| 0.9914|3.25|      0.4|   11.1|      8|\n",
      "|          8.1|            0.27|       0.35|           1.7|     0.03|               38.0|               103.0|0.99255|3.22|     0.63|   10.4|      8|\n",
      "|          6.7|            0.23|       0.31|           2.1|    0.046|               30.0|                96.0| 0.9926|3.33|     0.64|   10.7|      8|\n",
      "|          7.2|            0.26|       0.44|           7.1|    0.027|               25.0|               126.0|  0.993|3.02|     0.34|   11.1|      8|\n",
      "|          7.4|             0.4|       0.29|           5.4|    0.044|               31.0|               122.0|  0.994| 3.3|      0.5|   11.1|      8|\n",
      "|          8.2|            0.37|       0.36|           1.0|    0.034|               17.0|                93.0| 0.9906|3.04|     0.32|   11.7|      8|\n",
      "|          5.2|            0.44|       0.04|           1.4|    0.036|               43.0|               119.0| 0.9894|3.36|     0.33|   12.1|      8|\n",
      "|          7.5|            0.28|       0.34|           4.2|    0.028|               36.0|               116.0|  0.991|2.99|     0.41|   12.3|      8|\n",
      "|          6.2|            0.66|       0.48|           1.2|    0.029|               29.0|                75.0| 0.9892|3.33|     0.39|   12.8|      8|\n",
      "|          6.2|            0.66|       0.48|           1.2|    0.029|               29.0|                75.0| 0.9892|3.33|     0.39|   12.8|      8|\n",
      "|          6.8|            0.24|        0.4|           1.8|    0.047|               34.0|               105.0|   0.99|3.13|     0.49|   12.8|      8|\n",
      "+-------------+----------------+-----------+--------------+---------+-------------------+--------------------+-------+----+---------+-------+-------+\n",
      "only showing top 50 rows\n",
      "\n"
     ]
    }
   ],
   "source": [
    "white_df.orderBy(white_df.quality.desc()).show(50)"
   ]
  },
  {
   "cell_type": "code",
   "execution_count": null,
   "metadata": {},
   "outputs": [],
   "source": [
    "Исходя из 180 строк, которыми являются вина с качеством 8 и выше можно сказать, что такие строки нельзя(но это не точно, почему взглянув подумалось так, но после взгляда на корреляцию - усомнился) использовать для анализа из-за большого Стандратного отклонения:\n",
    "\n",
    "- free sulfur dioxide\n",
    "- total sulfur dioxide\n",
    "- и собственно quality, так как это субъетивный параметр\n",
    "\n",
    "Стандратное отклонение по 180 строком вина с качеством 8 и выше:\n",
    "\n",
    "fixed acidity             - stddev|0.8306472538540021    min|0.8        max|14.8\n",
    "volatile acidity          - stddev|0.10691156636663357   min|0.12       max|0.66\n",
    "citric acid               - stddev|0.08568798146530096   min|0.04       max|0.74\n",
    "residual sugar            - stddev|4.248522911245072     min|0.8        max|14.8\n",
    "chlorides                 - stddev|0.013149755776090507  min|0.014      max|0.121\n",
    "free sulfur dioxide       - stddev|16.11066150189227     min|6.0        max|105.0\n",
    "total sulfur dioxide      - stddev|32.71965308990949     min|59.0       max|212.5\n",
    "density                   - stddev|0.00279069546685096   min|0.98713    max|1.0006\n",
    "pH                        - stddev|0.1513746139318499    min|2.94       max|3.59\n",
    "sulphates                 - stddev|0.1457023061285345    min|0.25       max|0.95\n",
    "alcohol                   - stddev|1.274348947102793     min|8.5        max|14.0"
   ]
  },
  {
   "cell_type": "code",
   "execution_count": null,
   "metadata": {},
   "outputs": [],
   "source": [
    "*подумайте, как связаны объективные оценки (например, pH) и субъективные, которые дали эксперты (качество)\n",
    "\n",
    "preordered_white = WHITE_df.groupby('quality').agg({'sulphates': 'mean'})\n",
    "preordered_red = RED_df.groupby('quality').agg({'sulphates': 'mean'})\n",
    "preordered_white.orderBy(preordered_white.quality.desc()).show(7)\n",
    "preordered_red.orderBy(preordered_red.quality.desc()).show(7)\n",
    "\n",
    "Белое\n",
    "\n",
    "groupby('').agg({'': 'mean'}).show()\n",
    "alcohol                Чем больше алкоголя, тем лучше вино\n",
    "fixed acidity          без особой прямой связи\n",
    "volatile acidity       в пределах 0.277-0.298 вино лучше\n",
    "citric acid            можно сказать, что чем меньше тем лучше\n",
    "residual sugar         можно сказать, что чем меньше сахара тем  лучше\n",
    "chlorides              чем меньше хлоридов, тем лучше вино\n",
    "free sulfur dioxide    без особой прямой связи\n",
    "total sulfur dioxide   чем меньше общий диоксид серы тем лучше\n",
    "density                чем меньше тем лучше\n",
    "pH                     чем больше тем лучше\n",
    "sulphates              без особой прямой связи\n",
    "\n",
    "Красное\n",
    "\n",
    "groupby('').agg({'': 'mean'}).show()\n",
    "alcohol                Чем больше алкоголя, тем лучше вино\n",
    "fixed acidity          без особой прямой связи\n",
    "volatile acidity       чем меньше тем лучше\n",
    "citric acid            чем больше тем лучше\n",
    "residual sugar         можно сказать, что чем меньше сахара тем  лучше\n",
    "chlorides              чем меньше хлоридов, тем лучше вино\n",
    "free sulfur dioxide    без особой прямой связи\n",
    "total sulfur dioxide   в пределах 33-35 вино лучше\n",
    "density                чем меньше тем лучше\n",
    "pH                     чем меньше тем лучше\n",
    "sulphates              без особой прямой связи"
   ]
  },
  {
   "cell_type": "code",
   "execution_count": null,
   "metadata": {},
   "outputs": [],
   "source": [
    "*проверьте, какие пары параметров существенно отличаются между красным и белым вином\n",
    "\n",
    "groupby('').agg({'': 'mean'}).show()\n",
    "alcohol                примерно одинаковые показатели\n",
    "fixed acidity          в белом максимальная средняя не больше 7.5, в красном минимальная средняя не меньше 7.7, а максимальная средняя 8.8\n",
    "volatile acidity       в белом максимальная средняя не больше 0.381, в красном минимальная средняя не меньше 0.403, а максимальная средняя 0.884\n",
    "citric acid            в белом максимальная средняя не больше 0.386, в красном минимальная средняя не меньше 0.170, а максимальная средняя 0.391\n",
    "residual sugar         в белом максимальная средняя не больше 7.334, в красном минимальная средняя не меньше 2.477, а максимальная средняя 2.720\n",
    "chlorides              в белом максимальная средняя не больше 0.054, в красном минимальная средняя не меньше 0.068, а максимальная средняя 0.122\n",
    "free sulfur dioxide    в белом максимальная средняя не больше 53.32, в красном минимальная средняя не меньше 11.00, а максимальная средняя 16.98\n",
    "total sulfur dioxide   в белом максимальная средняя не больше 170.6, в красном минимальная средняя не меньше 24.90, а максимальная средняя 56.51\n",
    "density                примерно одинаковые показатели\n",
    "pH                     в белом максимальная средняя не больше 3.308, в красном минимальная средняя не меньше 3.267, а максимальная средняя 3.979\n",
    "sulphates              в белом максимальная средняя не больше 0.5, в красном минимальная средняя не меньше 0.57, а максимальная средняя 0.76"
   ]
  },
  {
   "cell_type": "code",
   "execution_count": null,
   "metadata": {},
   "outputs": [],
   "source": []
  }
 ],
 "metadata": {
  "kernelspec": {
   "display_name": "Python 3",
   "language": "python",
   "name": "python3"
  },
  "language_info": {
   "codemirror_mode": {
    "name": "ipython",
    "version": 3
   },
   "file_extension": ".py",
   "mimetype": "text/x-python",
   "name": "python",
   "nbconvert_exporter": "python",
   "pygments_lexer": "ipython3",
   "version": "3.7.1"
  }
 },
 "nbformat": 4,
 "nbformat_minor": 2
}
